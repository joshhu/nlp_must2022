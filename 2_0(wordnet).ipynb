{
  "nbformat": 4,
  "nbformat_minor": 0,
  "metadata": {
    "colab": {
      "name": "2_0(wordnet).ipynb",
      "provenance": [],
      "collapsed_sections": [],
      "toc_visible": true
    },
    "kernelspec": {
      "name": "python3",
      "display_name": "Python 3"
    },
    "language_info": {
      "name": "python"
    }
  },
  "cells": [
    {
      "cell_type": "markdown",
      "source": [
        "# 中文wordnet\n",
        "完整用法：https://github.com/lopentu/CwnGraph"
      ],
      "metadata": {
        "id": "NLZPCMu0_SMu"
      }
    },
    {
      "cell_type": "markdown",
      "source": [
        ""
      ],
      "metadata": {
        "id": "YSg27L1r_QaN"
      }
    },
    {
      "cell_type": "code",
      "source": [
        "!pip install CwnGraph"
      ],
      "metadata": {
        "id": "2E02jlhZ8rr7"
      },
      "execution_count": null,
      "outputs": []
    },
    {
      "cell_type": "markdown",
      "source": [
        "# 將`cwn_graph.pyobj`上傳到colab目錄"
      ],
      "metadata": {
        "id": "-1W4TtOp-L44"
      }
    },
    {
      "cell_type": "code",
      "execution_count": 6,
      "metadata": {
        "colab": {
          "base_uri": "https://localhost:8080/"
        },
        "id": "Kuuu-WmF8M5u",
        "outputId": "6dee9ee2-50fa-4e27-e2e2-227a352f20b3"
      },
      "outputs": [
        {
          "output_type": "stream",
          "name": "stdout",
          "text": [
            "CWN data installed\n"
          ]
        }
      ],
      "source": [
        "from pprint import pprint\n",
        "from CwnGraph import CwnBase\n",
        "CwnBase.install_cwn(\"cwn_graph.pyobj\")"
      ]
    },
    {
      "cell_type": "code",
      "source": [
        "from CwnGraph import CwnBase\n",
        "cwn = CwnBase()"
      ],
      "metadata": {
        "id": "TRJpglUX8eX7"
      },
      "execution_count": 7,
      "outputs": []
    },
    {
      "cell_type": "code",
      "source": [
        "lemmas = cwn.find_lemma(\"頭\")\n",
        "lemmas"
      ],
      "metadata": {
        "colab": {
          "base_uri": "https://localhost:8080/"
        },
        "id": "IyFF5sOw9QQj",
        "outputId": "86655570-7fed-4afc-92d6-67f9d421c7ef"
      },
      "execution_count": 12,
      "outputs": [
        {
          "output_type": "execute_result",
          "data": {
            "text/plain": [
              "[<CwnLemma: 罐頭_1>,\n",
              " <CwnLemma: 年頭_1>,\n",
              " <CwnLemma: 山頭_1>,\n",
              " <CwnLemma: 頭_1>,\n",
              " <CwnLemma: 頭疼_1>,\n",
              " <CwnLemma: 從頭_1>,\n",
              " <CwnLemma: 龍頭_1>,\n",
              " <CwnLemma: 口頭_1>,\n",
              " <CwnLemma: 出頭_1>,\n",
              " <CwnLemma: 斷頭_1>,\n",
              " <CwnLemma: 分頭_1>,\n",
              " <CwnLemma: 回頭_1>,\n",
              " <CwnLemma: 磕頭_1>,\n",
              " <CwnLemma: 頭號_1>,\n",
              " <CwnLemma: 頭部_1>,\n",
              " <CwnLemma: 點頭_1>,\n",
              " <CwnLemma: 抬頭_1>,\n",
              " <CwnLemma: 街頭_1>,\n",
              " <CwnLemma: 裡頭_1>,\n",
              " <CwnLemma: 源頭_1>,\n",
              " <CwnLemma: 頭家_1>,\n",
              " <CwnLemma: 工頭_1>,\n",
              " <CwnLemma: 大舌頭_1>,\n",
              " <CwnLemma: 老頭_1>,\n",
              " <CwnLemma: 老頭子_1>,\n",
              " <CwnLemma: 花頭_1>,\n",
              " <CwnLemma: 白頭翁_1>,\n",
              " <CwnLemma: 頭彩_1>,\n",
              " <CwnLemma: 人頭稅_1>,\n",
              " <CwnLemma: 戶頭_1>,\n",
              " <CwnLemma: 頭癬_1>,\n",
              " <CwnLemma: 木頭_1>,\n",
              " <CwnLemma: 領頭_1>,\n",
              " <CwnLemma: 頭錘_1>,\n",
              " <CwnLemma: 零頭_1>,\n",
              " <CwnLemma: 接頭_1>,\n",
              " <CwnLemma: 頭狀_1>,\n",
              " <CwnLemma: 白頭鷹_1>,\n",
              " <CwnLemma: 貓頭鷹_1>,\n",
              " <CwnLemma: 頭蝨_1>,\n",
              " <CwnLemma: 奶頭_1>,\n",
              " <CwnLemma: 頭髮_1>,\n",
              " <CwnLemma: 平頭_1>,\n",
              " <CwnLemma: 舌頭_1>,\n",
              " <CwnLemma: 龜頭_1>,\n",
              " <CwnLemma: 人頭_1>,\n",
              " <CwnLemma: 頭頂_1>,\n",
              " <CwnLemma: 頭皮_1>,\n",
              " <CwnLemma: 頭蓋_1>,\n",
              " <CwnLemma: 拳頭_1>,\n",
              " <CwnLemma: 雙頭肌_1>,\n",
              " <CwnLemma: 額頭_1>,\n",
              " <CwnLemma: 念頭_1>,\n",
              " <CwnLemma: 頭條_1>,\n",
              " <CwnLemma: 開頭_1>,\n",
              " <CwnLemma: 叩頭_1>,\n",
              " <CwnLemma: 芋頭_1>,\n",
              " <CwnLemma: 橋頭堡_1>,\n",
              " <CwnLemma: 盡頭_1>,\n",
              " <CwnLemma: 石頭_1>,\n",
              " <CwnLemma: 露頭_1>,\n",
              " <CwnLemma: 頭皮屑_1>,\n",
              " <CwnLemma: 兩頭蛇_1>,\n",
              " <CwnLemma: 空頭_1>,\n",
              " <CwnLemma: 頭重腳輕_1>,\n",
              " <CwnLemma: 箭頭_1>,\n",
              " <CwnLemma: 斧頭_1>,\n",
              " <CwnLemma: 鑽頭_1>,\n",
              " <CwnLemma: 船頭_1>,\n",
              " <CwnLemma: 頭巾_1>,\n",
              " <CwnLemma: 虎頭蛇尾_1>,\n",
              " <CwnLemma: 鏡頭_1>,\n",
              " <CwnLemma: 柱頭_1>,\n",
              " <CwnLemma: 頭暈目眩_1>,\n",
              " <CwnLemma: 煙頭_1>,\n",
              " <CwnLemma: 滑頭_1>,\n",
              " <CwnLemma: 寡頭政治_1>,\n",
              " <CwnLemma: 頭銜_1>,\n",
              " <CwnLemma: 頭蓋骨_1>,\n",
              " <CwnLemma: 乳頭狀_1>,\n",
              " <CwnLemma: 喉頭_1>,\n",
              " <CwnLemma: 水龍頭_1>,\n",
              " <CwnLemma: 大頭_1>,\n",
              " <CwnLemma: 頭等艙_1>,\n",
              " <CwnLemma: 斷頭台_1>,\n",
              " <CwnLemma: 行頭_1>,\n",
              " <CwnLemma: 頭盔_1>,\n",
              " <CwnLemma: 頭像_1>,\n",
              " <CwnLemma: 鋤頭_1>,\n",
              " <CwnLemma: 頭罩_1>,\n",
              " <CwnLemma: 火車頭_1>,\n",
              " <CwnLemma: 磁頭_1>,\n",
              " <CwnLemma: 碼頭_1>,\n",
              " <CwnLemma: 尖頭_1>,\n",
              " <CwnLemma: 枕頭_1>,\n",
              " <CwnLemma: 針頭_1>,\n",
              " <CwnLemma: 插頭_1>,\n",
              " <CwnLemma: 店頭_1>,\n",
              " <CwnLemma: 噴頭_1>,\n",
              " <CwnLemma: 蓮蓬頭_1>,\n",
              " <CwnLemma: 矛頭_1>,\n",
              " <CwnLemma: 大頭釘_1>,\n",
              " <CwnLemma: 頭飾_1>,\n",
              " <CwnLemma: 三頭馬車_1>,\n",
              " <CwnLemma: 彈頭_1>,\n",
              " <CwnLemma: 皺眉頭_1>,\n",
              " <CwnLemma: 從頭到尾_1>,\n",
              " <CwnLemma: 頭昏眼花_1>,\n",
              " <CwnLemma: 賊頭賊腦_1>,\n",
              " <CwnLemma: 砍頭_1>,\n",
              " <CwnLemma: 起頭_1>,\n",
              " <CwnLemma: 梳頭_1>,\n",
              " <CwnLemma: 禿頭_1>,\n",
              " <CwnLemma: 搖頭_1>,\n",
              " <CwnLemma: 掉頭_1>,\n",
              " <CwnLemma: 垂頭喪氣_1>,\n",
              " <CwnLemma: 頭等_1>,\n",
              " <CwnLemma: 噱頭_1>,\n",
              " <CwnLemma: 鐘頭_1>,\n",
              " <CwnLemma: 骨頭_1>,\n",
              " <CwnLemma: 後頭_1>,\n",
              " <CwnLemma: 裏頭_1>,\n",
              " <CwnLemma: 饅頭_1>,\n",
              " <CwnLemma: 前頭_1>,\n",
              " <CwnLemma: 上頭_1>,\n",
              " <CwnLemma: 手指頭_1>,\n",
              " <CwnLemma: 頭痛_1>,\n",
              " <CwnLemma: 外頭_1>,\n",
              " <CwnLemma: 到頭來_1>,\n",
              " <CwnLemma: 關頭_1>,\n",
              " <CwnLemma: 老頭兒_1>,\n",
              " <CwnLemma: 眉頭_1>,\n",
              " <CwnLemma: 派頭_1>,\n",
              " <CwnLemma: 頭腦_1>,\n",
              " <CwnLemma: 指頭_1>,\n",
              " <CwnLemma: 開頭兒_1>]"
            ]
          },
          "metadata": {},
          "execution_count": 12
        }
      ]
    },
    {
      "cell_type": "markdown",
      "source": [
        "#英文wordnet\n",
        "完整用法：https://www.nltk.org/howto/wordnet.html"
      ],
      "metadata": {
        "id": "13NyCY9p_Hpi"
      }
    },
    {
      "cell_type": "code",
      "source": [
        "import nltk\n",
        "nltk.download('wordnet')\n",
        "from nltk.corpus import wordnet as wn\n",
        "wn.synsets('dog')"
      ],
      "metadata": {
        "colab": {
          "base_uri": "https://localhost:8080/"
        },
        "id": "aDX0UHsY-dR5",
        "outputId": "b97bb98e-b096-4216-abc1-021a0487be13"
      },
      "execution_count": 18,
      "outputs": [
        {
          "output_type": "stream",
          "name": "stdout",
          "text": [
            "[nltk_data] Downloading package wordnet to /root/nltk_data...\n",
            "[nltk_data]   Unzipping corpora/wordnet.zip.\n"
          ]
        },
        {
          "output_type": "execute_result",
          "data": {
            "text/plain": [
              "[Synset('dog.n.01'),\n",
              " Synset('frump.n.01'),\n",
              " Synset('dog.n.03'),\n",
              " Synset('cad.n.01'),\n",
              " Synset('frank.n.02'),\n",
              " Synset('pawl.n.01'),\n",
              " Synset('andiron.n.01'),\n",
              " Synset('chase.v.01')]"
            ]
          },
          "metadata": {},
          "execution_count": 18
        }
      ]
    }
  ]
}