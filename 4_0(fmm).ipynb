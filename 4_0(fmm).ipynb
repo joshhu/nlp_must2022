{
  "nbformat": 4,
  "nbformat_minor": 0,
  "metadata": {
    "colab": {
      "name": "4_1(fmm).ipynb",
      "provenance": [],
      "collapsed_sections": []
    },
    "kernelspec": {
      "name": "python3",
      "display_name": "Python 3"
    },
    "language_info": {
      "name": "python"
    }
  },
  "cells": [
    {
      "cell_type": "code",
      "source": [
        "# 上傳lexicon.tt"
      ],
      "metadata": {
        "id": "oaA4OE72-FjK"
      },
      "execution_count": null,
      "outputs": []
    },
    {
      "cell_type": "code",
      "execution_count": 10,
      "metadata": {
        "colab": {
          "base_uri": "https://localhost:8080/"
        },
        "id": "ymAuokmn6c0W",
        "outputId": "47af9470-40b7-4113-8a58-b16655d2e975"
      },
      "outputs": [
        {
          "output_type": "stream",
          "name": "stdout",
          "text": [
            "輸入句字：明新科技大學資訊管理學系\n",
            "明\n",
            "新\n",
            "科技\n",
            "大學\n",
            "資訊\n",
            "管理學\n",
            "系\n"
          ]
        }
      ],
      "source": [
        "def load_dict():\n",
        "    f = open(\"lexicon.txt\")\n",
        "    lexicon = set()\n",
        "    max_len = 0\n",
        "    for line in f:\n",
        "        word = line.strip()\n",
        "        lexicon.add(word)\n",
        "        if len(word) > max_len:\n",
        "            max_len = len(word)\n",
        "    f.close()\n",
        "\n",
        "    return lexicon, max_len\n",
        "\n",
        "def fmm_word_seg(sentence, lexicon, max_len):\n",
        "    begin = 0\n",
        "    end = min(begin + max_len, len(sentence))\n",
        "    words = []\n",
        "    while begin < end:\n",
        "        word = sentence[begin:end]\n",
        "        if word in lexicon or end - begin == 1:\n",
        "            words.append(word)\n",
        "            begin = end\n",
        "            end = min(begin + max_len, len(sentence))\n",
        "        else:\n",
        "            end -= 1\n",
        "    return words\n",
        "\n",
        "lexicon, max_len = load_dict()\n",
        "words = fmm_word_seg(input(\"輸入句字：\"), lexicon, max_len)\n",
        "\n",
        "for word in words:\n",
        "    print(word,) \n"
      ]
    }
  ]
}