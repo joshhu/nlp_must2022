{
  "nbformat": 4,
  "nbformat_minor": 0,
  "metadata": {
    "colab": {
      "name": "2_2(svd).ipynb",
      "provenance": [],
      "collapsed_sections": []
    },
    "kernelspec": {
      "name": "python3",
      "display_name": "Python 3"
    },
    "language_info": {
      "name": "python"
    }
  },
  "cells": [
    {
      "cell_type": "code",
      "source": [
        "# Colab 進行matplotlib繪圖時顯示繁體中文\n",
        "# 下載台北思源黑體並命名taipei_sans_tc_beta.ttf，移至指定路徑\n",
        "!wget -O TaipeiSansTCBeta-Regular.ttf https://drive.google.com/uc?id=1eGAsTN1HBpJAkeVM57_C7ccp7hbgSz3_&export=download\n",
        "\n",
        "import matplotlib as mpl\n",
        "import matplotlib.pyplot as plt \n",
        "from matplotlib.font_manager import fontManager\n",
        "\n",
        "# 改style要在改font之前\n",
        "# plt.style.use('seaborn')  \n",
        "\n",
        "fontManager.addfont('TaipeiSansTCBeta-Regular.ttf')\n",
        "mpl.rc('font', family='Taipei Sans TC Beta')"
      ],
      "metadata": {
        "colab": {
          "base_uri": "https://localhost:8080/"
        },
        "id": "kLdGAqbuf1Hg",
        "outputId": "73aa66d1-b1a3-4a7a-eb6c-9e6c9c90b7e6"
      },
      "execution_count": 3,
      "outputs": [
        {
          "output_type": "stream",
          "name": "stdout",
          "text": [
            "--2022-03-17 15:25:30--  https://drive.google.com/uc?id=1eGAsTN1HBpJAkeVM57_C7ccp7hbgSz3_\n",
            "Resolving drive.google.com (drive.google.com)... 142.250.101.139, 142.250.101.113, 142.250.101.100, ...\n",
            "Connecting to drive.google.com (drive.google.com)|142.250.101.139|:443... connected.\n",
            "HTTP request sent, awaiting response... 303 See Other\n",
            "Location: https://doc-0k-9o-docs.googleusercontent.com/docs/securesc/ha0ro937gcuc7l7deffksulhg5h7mbp1/jgdh8suv11nlo5ughe6h907pt07c1pk0/1647530700000/02847987870453524430/*/1eGAsTN1HBpJAkeVM57_C7ccp7hbgSz3_ [following]\n",
            "Warning: wildcards not supported in HTTP.\n",
            "--2022-03-17 15:25:34--  https://doc-0k-9o-docs.googleusercontent.com/docs/securesc/ha0ro937gcuc7l7deffksulhg5h7mbp1/jgdh8suv11nlo5ughe6h907pt07c1pk0/1647530700000/02847987870453524430/*/1eGAsTN1HBpJAkeVM57_C7ccp7hbgSz3_\n",
            "Resolving doc-0k-9o-docs.googleusercontent.com (doc-0k-9o-docs.googleusercontent.com)... 142.250.141.132, 2607:f8b0:4023:c0b::84\n",
            "Connecting to doc-0k-9o-docs.googleusercontent.com (doc-0k-9o-docs.googleusercontent.com)|142.250.141.132|:443... connected.\n",
            "HTTP request sent, awaiting response... 200 OK\n",
            "Length: 20659344 (20M) [application/x-font-ttf]\n",
            "Saving to: ‘TaipeiSansTCBeta-Regular.ttf’\n",
            "\n",
            "TaipeiSansTCBeta-Re 100%[===================>]  19.70M  25.0MB/s    in 0.8s    \n",
            "\n",
            "2022-03-17 15:25:35 (25.0 MB/s) - ‘TaipeiSansTCBeta-Regular.ttf’ saved [20659344/20659344]\n",
            "\n"
          ]
        }
      ]
    },
    {
      "cell_type": "code",
      "execution_count": 5,
      "metadata": {
        "id": "3VpwEfTN7Gjn",
        "outputId": "2b160b5b-0f19-4f12-dfc0-cb5d71524888",
        "colab": {
          "base_uri": "https://localhost:8080/",
          "height": 269
        }
      },
      "outputs": [
        {
          "output_type": "display_data",
          "data": {
            "text/plain": [
              "<Figure size 432x288 with 1 Axes>"
            ],
            "image/png": "[encoded data removed]"
          },
          "metadata": {
            "needs_background": "light"
          }
        }
      ],
      "source": [
        "# Defined in Section 2.1.2\n",
        "\n",
        "import numpy as np\n",
        "\n",
        "M = np.array([[0, 2, 1, 1, 1, 1, 1, 2, 1, 3],\n",
        "              [2, 0, 1, 1, 1, 0, 0, 1, 1, 2],\n",
        "              [1, 1, 0, 1, 1, 0, 0, 0, 0, 1],\n",
        "              [1, 1, 1, 0, 1, 0, 0, 0, 0, 1],\n",
        "              [1, 1, 1, 1, 0, 0, 0, 0, 0, 1],\n",
        "              [1, 0, 0, 0, 0, 0, 1, 1, 0, 1],\n",
        "              [1, 0, 0, 0, 0, 1, 0, 1, 0, 1],\n",
        "              [2, 1, 0, 0, 0, 1, 1, 0, 1, 2],\n",
        "              [1, 1, 0, 0, 0, 0, 0, 1, 0, 1],\n",
        "              [3, 2, 1, 1, 1, 1, 1, 2, 1, 0]])\n",
        "\n",
        "np.set_printoptions(precision=2)\n",
        "U, s, Vh = np.linalg.svd(M_pmi)\n",
        "\n",
        "import matplotlib.pyplot as plt\n",
        "plt.rcParams['font.sans-serif'] = ['Arial Unicode MS']\n",
        "\n",
        "words = [\"我\", \"喜歡\", \"自然\", \"語言\", \"處理\", \"愛\", \"深度\", \"學習\", \"機器\", \"。\"]\n",
        "\n",
        "for i in range(len(words)):\n",
        "    plt.text(U[i, 0], U[i, 1], words[i])\n",
        "plt.xlim(0, 0.6)\n",
        "plt.ylim(-0.5, 0.6)\n",
        "plt.show()\n",
        "\n"
      ]
    }
  ]
}